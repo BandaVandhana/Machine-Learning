{
  "nbformat": 4,
  "nbformat_minor": 0,
  "metadata": {
    "colab": {
      "provenance": []
    },
    "kernelspec": {
      "name": "python3",
      "display_name": "Python 3"
    },
    "language_info": {
      "name": "python"
    }
  },
  "cells": [
    {
      "cell_type": "code",
      "execution_count": 2,
      "metadata": {
        "colab": {
          "base_uri": "https://localhost:8080/",
          "height": 71
        },
        "id": "b1ZAydUtwR6m",
        "outputId": "fbdfc2f4-2ea1-4e33-8912-ebb13f74421d"
      },
      "outputs": [
        {
          "output_type": "display_data",
          "data": {
            "text/plain": [
              "<IPython.core.display.HTML object>"
            ],
            "text/html": [
              "\n",
              "     <input type=\"file\" id=\"files-9ffb558b-bda1-4f20-b314-cab062b9fcb9\" name=\"files[]\" multiple disabled\n",
              "        style=\"border:none\" />\n",
              "     <output id=\"result-9ffb558b-bda1-4f20-b314-cab062b9fcb9\">\n",
              "      Upload widget is only available when the cell has been executed in the\n",
              "      current browser session. Please rerun this cell to enable.\n",
              "      </output>\n",
              "      <script>// Copyright 2017 Google LLC\n",
              "//\n",
              "// Licensed under the Apache License, Version 2.0 (the \"License\");\n",
              "// you may not use this file except in compliance with the License.\n",
              "// You may obtain a copy of the License at\n",
              "//\n",
              "//      http://www.apache.org/licenses/LICENSE-2.0\n",
              "//\n",
              "// Unless required by applicable law or agreed to in writing, software\n",
              "// distributed under the License is distributed on an \"AS IS\" BASIS,\n",
              "// WITHOUT WARRANTIES OR CONDITIONS OF ANY KIND, either express or implied.\n",
              "// See the License for the specific language governing permissions and\n",
              "// limitations under the License.\n",
              "\n",
              "/**\n",
              " * @fileoverview Helpers for google.colab Python module.\n",
              " */\n",
              "(function(scope) {\n",
              "function span(text, styleAttributes = {}) {\n",
              "  const element = document.createElement('span');\n",
              "  element.textContent = text;\n",
              "  for (const key of Object.keys(styleAttributes)) {\n",
              "    element.style[key] = styleAttributes[key];\n",
              "  }\n",
              "  return element;\n",
              "}\n",
              "\n",
              "// Max number of bytes which will be uploaded at a time.\n",
              "const MAX_PAYLOAD_SIZE = 100 * 1024;\n",
              "\n",
              "function _uploadFiles(inputId, outputId) {\n",
              "  const steps = uploadFilesStep(inputId, outputId);\n",
              "  const outputElement = document.getElementById(outputId);\n",
              "  // Cache steps on the outputElement to make it available for the next call\n",
              "  // to uploadFilesContinue from Python.\n",
              "  outputElement.steps = steps;\n",
              "\n",
              "  return _uploadFilesContinue(outputId);\n",
              "}\n",
              "\n",
              "// This is roughly an async generator (not supported in the browser yet),\n",
              "// where there are multiple asynchronous steps and the Python side is going\n",
              "// to poll for completion of each step.\n",
              "// This uses a Promise to block the python side on completion of each step,\n",
              "// then passes the result of the previous step as the input to the next step.\n",
              "function _uploadFilesContinue(outputId) {\n",
              "  const outputElement = document.getElementById(outputId);\n",
              "  const steps = outputElement.steps;\n",
              "\n",
              "  const next = steps.next(outputElement.lastPromiseValue);\n",
              "  return Promise.resolve(next.value.promise).then((value) => {\n",
              "    // Cache the last promise value to make it available to the next\n",
              "    // step of the generator.\n",
              "    outputElement.lastPromiseValue = value;\n",
              "    return next.value.response;\n",
              "  });\n",
              "}\n",
              "\n",
              "/**\n",
              " * Generator function which is called between each async step of the upload\n",
              " * process.\n",
              " * @param {string} inputId Element ID of the input file picker element.\n",
              " * @param {string} outputId Element ID of the output display.\n",
              " * @return {!Iterable<!Object>} Iterable of next steps.\n",
              " */\n",
              "function* uploadFilesStep(inputId, outputId) {\n",
              "  const inputElement = document.getElementById(inputId);\n",
              "  inputElement.disabled = false;\n",
              "\n",
              "  const outputElement = document.getElementById(outputId);\n",
              "  outputElement.innerHTML = '';\n",
              "\n",
              "  const pickedPromise = new Promise((resolve) => {\n",
              "    inputElement.addEventListener('change', (e) => {\n",
              "      resolve(e.target.files);\n",
              "    });\n",
              "  });\n",
              "\n",
              "  const cancel = document.createElement('button');\n",
              "  inputElement.parentElement.appendChild(cancel);\n",
              "  cancel.textContent = 'Cancel upload';\n",
              "  const cancelPromise = new Promise((resolve) => {\n",
              "    cancel.onclick = () => {\n",
              "      resolve(null);\n",
              "    };\n",
              "  });\n",
              "\n",
              "  // Wait for the user to pick the files.\n",
              "  const files = yield {\n",
              "    promise: Promise.race([pickedPromise, cancelPromise]),\n",
              "    response: {\n",
              "      action: 'starting',\n",
              "    }\n",
              "  };\n",
              "\n",
              "  cancel.remove();\n",
              "\n",
              "  // Disable the input element since further picks are not allowed.\n",
              "  inputElement.disabled = true;\n",
              "\n",
              "  if (!files) {\n",
              "    return {\n",
              "      response: {\n",
              "        action: 'complete',\n",
              "      }\n",
              "    };\n",
              "  }\n",
              "\n",
              "  for (const file of files) {\n",
              "    const li = document.createElement('li');\n",
              "    li.append(span(file.name, {fontWeight: 'bold'}));\n",
              "    li.append(span(\n",
              "        `(${file.type || 'n/a'}) - ${file.size} bytes, ` +\n",
              "        `last modified: ${\n",
              "            file.lastModifiedDate ? file.lastModifiedDate.toLocaleDateString() :\n",
              "                                    'n/a'} - `));\n",
              "    const percent = span('0% done');\n",
              "    li.appendChild(percent);\n",
              "\n",
              "    outputElement.appendChild(li);\n",
              "\n",
              "    const fileDataPromise = new Promise((resolve) => {\n",
              "      const reader = new FileReader();\n",
              "      reader.onload = (e) => {\n",
              "        resolve(e.target.result);\n",
              "      };\n",
              "      reader.readAsArrayBuffer(file);\n",
              "    });\n",
              "    // Wait for the data to be ready.\n",
              "    let fileData = yield {\n",
              "      promise: fileDataPromise,\n",
              "      response: {\n",
              "        action: 'continue',\n",
              "      }\n",
              "    };\n",
              "\n",
              "    // Use a chunked sending to avoid message size limits. See b/62115660.\n",
              "    let position = 0;\n",
              "    do {\n",
              "      const length = Math.min(fileData.byteLength - position, MAX_PAYLOAD_SIZE);\n",
              "      const chunk = new Uint8Array(fileData, position, length);\n",
              "      position += length;\n",
              "\n",
              "      const base64 = btoa(String.fromCharCode.apply(null, chunk));\n",
              "      yield {\n",
              "        response: {\n",
              "          action: 'append',\n",
              "          file: file.name,\n",
              "          data: base64,\n",
              "        },\n",
              "      };\n",
              "\n",
              "      let percentDone = fileData.byteLength === 0 ?\n",
              "          100 :\n",
              "          Math.round((position / fileData.byteLength) * 100);\n",
              "      percent.textContent = `${percentDone}% done`;\n",
              "\n",
              "    } while (position < fileData.byteLength);\n",
              "  }\n",
              "\n",
              "  // All done.\n",
              "  yield {\n",
              "    response: {\n",
              "      action: 'complete',\n",
              "    }\n",
              "  };\n",
              "}\n",
              "\n",
              "scope.google = scope.google || {};\n",
              "scope.google.colab = scope.google.colab || {};\n",
              "scope.google.colab._files = {\n",
              "  _uploadFiles,\n",
              "  _uploadFilesContinue,\n",
              "};\n",
              "})(self);\n",
              "</script> "
            ]
          },
          "metadata": {}
        },
        {
          "output_type": "stream",
          "name": "stdout",
          "text": [
            "Saving Lab Session Data.xlsx to Lab Session Data.xlsx\n"
          ]
        }
      ],
      "source": [
        "from google.colab import files\n",
        "uploaded=files.upload()\n",
        "file_path = list(uploaded.keys())[0]"
      ]
    },
    {
      "cell_type": "code",
      "source": [
        "import pandas as pd\n",
        "import numpy as np\n",
        "import seaborn as sns\n",
        "import matplotlib.pyplot as plt\n",
        "import statistics\n",
        "from sklearn.preprocessing import LabelEncoder, OneHotEncoder, MinMaxScaler\n",
        "from sklearn.metrics.pairwise import cosine_similarity\n",
        "from scipy.spatial.distance import jaccard\n",
        "import warnings\n",
        "from sklearn.impute import SimpleImputer\n",
        "warnings.filterwarnings(\"ignore\")"
      ],
      "metadata": {
        "id": "QzqV_BacxUrZ"
      },
      "execution_count": 12,
      "outputs": []
    },
    {
      "cell_type": "code",
      "source": [
        "#Q1\n",
        "df = pd.read_excel(file_path, sheet_name='Purchase data')\n",
        "\n",
        "# Extract Matrix A (product quantities) and C (payment)\n",
        "A = df[['Candies (#)', 'Mangoes (Kg)', 'Milk Packets (#)']].dropna()\n",
        "C = df['Payment (Rs)'].dropna()\n",
        "\n",
        "# Convert to numpy\n",
        "A_matrix = A.to_numpy()\n",
        "C_vector = C.to_numpy()\n",
        "# A1 Results\n",
        "dim = A_matrix.shape[1]\n",
        "num_vectors = A_matrix.shape[0]\n",
        "rank = np.linalg.matrix_rank(A_matrix)\n",
        "costs = np.linalg.pinv(A_matrix) @ C_vector\n",
        "\n",
        "print(\"Dimensionality of vector space:\", dim)\n",
        "print(\"Number of vectors:\", num_vectors)\n",
        "print(\"Rank of Matrix A:\", rank)\n",
        "print(\"Estimated Product Costs:\")\n",
        "print(\"  Candy  : ₹{:.2f}\".format(costs[0]))\n",
        "print(\"  Mango  : ₹{:.2f}\".format(costs[1]))\n",
        "print(\"  Milk   : ₹{:.2f}\".format(costs[2]))"
      ],
      "metadata": {
        "colab": {
          "base_uri": "https://localhost:8080/"
        },
        "id": "2G5epRo65flQ",
        "outputId": "412da6a2-d268-4dd1-c41c-af17e7d22b1a"
      },
      "execution_count": 4,
      "outputs": [
        {
          "output_type": "stream",
          "name": "stdout",
          "text": [
            "Dimensionality of vector space: 3\n",
            "Number of vectors: 10\n",
            "Rank of Matrix A: 3\n",
            "Estimated Product Costs:\n",
            "  Candy  : ₹1.00\n",
            "  Mango  : ₹55.00\n",
            "  Milk   : ₹18.00\n"
          ]
        }
      ]
    },
    {
      "cell_type": "code",
      "source": [
        "#Q2\n",
        "# Classify customers based on Payment (Rs)\n",
        "df['Label'] = df['Payment (Rs)'].apply(lambda x: 'RICH' if x > 200 else 'POOR')\n",
        "\n",
        "# Print first 10 classifications\n",
        "print(\"Customer Classification\")\n",
        "print(df[['Candies (#)', 'Mangoes (Kg)', 'Milk Packets (#)', 'Payment (Rs)', 'Label']].head(10))"
      ],
      "metadata": {
        "colab": {
          "base_uri": "https://localhost:8080/"
        },
        "id": "r8_YDSaZ-LqC",
        "outputId": "b0d15177-8f8d-4d43-9d7c-9f32cb2240ee"
      },
      "execution_count": 5,
      "outputs": [
        {
          "output_type": "stream",
          "name": "stdout",
          "text": [
            "Customer Classification\n",
            "   Candies (#)  Mangoes (Kg)  Milk Packets (#)  Payment (Rs) Label\n",
            "0           20             6                 2           386  RICH\n",
            "1           16             3                 6           289  RICH\n",
            "2           27             6                 2           393  RICH\n",
            "3           19             1                 2           110  POOR\n",
            "4           24             4                 2           280  RICH\n",
            "5           22             1                 5           167  POOR\n",
            "6           15             4                 2           271  RICH\n",
            "7           18             4                 2           274  RICH\n",
            "8           21             1                 4           148  POOR\n",
            "9           16             2                 4           198  POOR\n"
          ]
        }
      ]
    },
    {
      "cell_type": "code",
      "source": [
        "#Q3\n",
        "# Load the IRCTC sheet\n",
        "irctc_df = pd.read_excel(file_path, sheet_name='IRCTC Stock Price')\n",
        "\n",
        "# 1. Mean and variance of Price\n",
        "mean_price = statistics.mean(irctc_df['Price'])\n",
        "var_price = statistics.variance(irctc_df['Price'])\n",
        "\n",
        "# 2. Mean on Wednesdays\n",
        "mean_wed = statistics.mean(irctc_df[irctc_df['Day'] == 'Wed']['Price'])\n",
        "\n",
        "# 3. Mean in April\n",
        "mean_apr = statistics.mean(irctc_df[irctc_df['Month'] == 'Apr']['Price'])\n",
        "\n",
        "# 4. Probability of loss (Chg% < 0)\n",
        "prob_loss = (irctc_df['Chg%'] < 0).mean()\n",
        "\n",
        "# 5. Probability of profit on Wednesday\n",
        "prob_profit_wed = ((irctc_df['Chg%'] > 0) & (irctc_df['Day'] == 'Wed')).sum() / (irctc_df['Day'] == 'Wed').sum()\n",
        "\n",
        "# 6. Scatter Plot\n",
        "sns.scatterplot(x='Day', y='Chg%', data=irctc_df)\n",
        "plt.title(\"Chg% vs Day\")\n",
        "plt.show()\n",
        "\n",
        "# Print all results\n",
        "print(\"Mean of Price:\", round(mean_price, 2))\n",
        "print(\"Variance of Price:\", round(var_price, 2))\n",
        "print(\"Mean Price on Wednesdays:\", round(mean_wed, 2))\n",
        "print(\"Mean Price in April:\", round(mean_apr, 2))\n",
        "print(\"Probability of Loss:\", round(prob_loss, 4))\n",
        "print(\"Probability of Profit on Wednesday:\", round(prob_profit_wed, 4))"
      ],
      "metadata": {
        "colab": {
          "base_uri": "https://localhost:8080/",
          "height": 576
        },
        "id": "HoDrD9Zk-brZ",
        "outputId": "1dd080ff-c9b3-4d26-9c3e-2ecc23d521d1"
      },
      "execution_count": 6,
      "outputs": [
        {
          "output_type": "display_data",
          "data": {
            "text/plain": [
              "<Figure size 640x480 with 1 Axes>"
            ],
            "image/png": "[encoded data removed]"
          },
          "metadata": {}
        },
        {
          "output_type": "stream",
          "name": "stdout",
          "text": [
            "Mean of Price: 1560.66\n",
            "Variance of Price: 58732.37\n",
            "Mean Price on Wednesdays: 1550.71\n",
            "Mean Price in April: 1698.95\n",
            "Probability of Loss: 0.498\n",
            "Probability of Profit on Wednesday: 0.42\n"
          ]
        }
      ]
    },
    {
      "cell_type": "code",
      "source": [
        "#Q4\n",
        "# Load thyroid sheet\n",
        "thyroid_df = pd.read_excel(file_path, sheet_name='thyroid0387_UCI')\n",
        "\n",
        "# 1. Describe dataset (all columns)\n",
        "desc = thyroid_df.describe(include='all')\n",
        "\n",
        "# 2. Check missing values\n",
        "missing = thyroid_df.isnull().sum()\n",
        "\n",
        "# 3. Data types and unique values\n",
        "\n",
        "print(\"\\nData Types:\\n\", thyroid_df.dtypes)\n",
        "print(\"\\nMissing Values:\\n\", missing)\n",
        "print(\"\\nUnique Values per Column:\\n\", thyroid_df.nunique())\n",
        "print(\"\\nDescriptive Statistics:\\n\", desc)\n",
        "\n",
        "# 4. Detect categorical features\n",
        "categorical_cols = thyroid_df.select_dtypes(include='object').columns.tolist()\n",
        "print(\"\\nCategorical Columns:\", categorical_cols)\n",
        "\n",
        "# 5. Check for outliers (for numeric columns)\n",
        "print(\"\\nChecking for outliers (Q1 - 1.5*IQR, Q3 + 1.5*IQR):\")\n",
        "for col in thyroid_df.select_dtypes(include=np.number).columns:\n",
        "    Q1 = thyroid_df[col].quantile(0.25)\n",
        "    Q3 = thyroid_df[col].quantile(0.75)\n",
        "    IQR = Q3 - Q1\n",
        "    outliers = thyroid_df[(thyroid_df[col] < Q1 - 1.5 * IQR) | (thyroid_df[col] > Q3 + 1.5 * IQR)]\n",
        "    print(f\"{col}: {len(outliers)} outliers\")\n",
        "\n",
        "# 6. Mean and variance for numeric columns\n",
        "print(\"\\nMean and Variance for Numeric Columns:\")\n",
        "for col in thyroid_df.select_dtypes(include=np.number).columns:\n",
        "    mean = thyroid_df[col].mean()\n",
        "    var = thyroid_df[col].var()\n",
        "    print(f\"{col}: Mean = {mean:.2f}, Variance = {var:.2f}\")\n"
      ],
      "metadata": {
        "colab": {
          "base_uri": "https://localhost:8080/"
        },
        "id": "7w9KkF5z-zf4",
        "outputId": "d12abc5b-9e92-4bc0-d949-2ba7e9b4b09a"
      },
      "execution_count": 7,
      "outputs": [
        {
          "output_type": "stream",
          "name": "stdout",
          "text": [
            "\n",
            "Data Types:\n",
            " Record ID                     int64\n",
            "age                           int64\n",
            "sex                          object\n",
            "on thyroxine                 object\n",
            "query on thyroxine           object\n",
            "on antithyroid medication    object\n",
            "sick                         object\n",
            "pregnant                     object\n",
            "thyroid surgery              object\n",
            "I131 treatment               object\n",
            "query hypothyroid            object\n",
            "query hyperthyroid           object\n",
            "lithium                      object\n",
            "goitre                       object\n",
            "tumor                        object\n",
            "hypopituitary                object\n",
            "psych                        object\n",
            "TSH measured                 object\n",
            "TSH                          object\n",
            "T3 measured                  object\n",
            "T3                           object\n",
            "TT4 measured                 object\n",
            "TT4                          object\n",
            "T4U measured                 object\n",
            "T4U                          object\n",
            "FTI measured                 object\n",
            "FTI                          object\n",
            "TBG measured                 object\n",
            "TBG                          object\n",
            "referral source              object\n",
            "Condition                    object\n",
            "dtype: object\n",
            "\n",
            "Missing Values:\n",
            " Record ID                    0\n",
            "age                          0\n",
            "sex                          0\n",
            "on thyroxine                 0\n",
            "query on thyroxine           0\n",
            "on antithyroid medication    0\n",
            "sick                         0\n",
            "pregnant                     0\n",
            "thyroid surgery              0\n",
            "I131 treatment               0\n",
            "query hypothyroid            0\n",
            "query hyperthyroid           0\n",
            "lithium                      0\n",
            "goitre                       0\n",
            "tumor                        0\n",
            "hypopituitary                0\n",
            "psych                        0\n",
            "TSH measured                 0\n",
            "TSH                          0\n",
            "T3 measured                  0\n",
            "T3                           0\n",
            "TT4 measured                 0\n",
            "TT4                          0\n",
            "T4U measured                 0\n",
            "T4U                          0\n",
            "FTI measured                 0\n",
            "FTI                          0\n",
            "TBG measured                 0\n",
            "TBG                          0\n",
            "referral source              0\n",
            "Condition                    0\n",
            "dtype: int64\n",
            "\n",
            "Unique Values per Column:\n",
            " Record ID                    9172\n",
            "age                           100\n",
            "sex                             3\n",
            "on thyroxine                    2\n",
            "query on thyroxine              2\n",
            "on antithyroid medication       2\n",
            "sick                            2\n",
            "pregnant                        2\n",
            "thyroid surgery                 2\n",
            "I131 treatment                  2\n",
            "query hypothyroid               2\n",
            "query hyperthyroid              2\n",
            "lithium                         2\n",
            "goitre                          2\n",
            "tumor                           2\n",
            "hypopituitary                   2\n",
            "psych                           2\n",
            "TSH measured                    2\n",
            "TSH                           370\n",
            "T3 measured                     2\n",
            "T3                             86\n",
            "TT4 measured                    2\n",
            "TT4                           288\n",
            "T4U measured                    2\n",
            "T4U                           177\n",
            "FTI measured                    2\n",
            "FTI                           324\n",
            "TBG measured                    2\n",
            "TBG                            67\n",
            "referral source                 6\n",
            "Condition                      32\n",
            "dtype: int64\n",
            "\n",
            "Descriptive Statistics:\n",
            "            Record ID           age   sex on thyroxine query on thyroxine  \\\n",
            "count   9.172000e+03   9172.000000  9172         9172               9172   \n",
            "unique           NaN           NaN     3            2                  2   \n",
            "top              NaN           NaN     F            f                  f   \n",
            "freq             NaN           NaN  6073         7932               9019   \n",
            "mean    8.529473e+08     73.555822   NaN          NaN                NaN   \n",
            "std     7.581969e+06   1183.976718   NaN          NaN                NaN   \n",
            "min     8.408010e+08      1.000000   NaN          NaN                NaN   \n",
            "25%     8.504090e+08     37.000000   NaN          NaN                NaN   \n",
            "50%     8.510040e+08     55.000000   NaN          NaN                NaN   \n",
            "75%     8.607110e+08     68.000000   NaN          NaN                NaN   \n",
            "max     8.701190e+08  65526.000000   NaN          NaN                NaN   \n",
            "\n",
            "       on antithyroid medication  sick pregnant thyroid surgery  \\\n",
            "count                       9172  9172     9172            9172   \n",
            "unique                         2     2        2               2   \n",
            "top                            f     f        f               f   \n",
            "freq                        9056  8828     9065            9038   \n",
            "mean                         NaN   NaN      NaN             NaN   \n",
            "std                          NaN   NaN      NaN             NaN   \n",
            "min                          NaN   NaN      NaN             NaN   \n",
            "25%                          NaN   NaN      NaN             NaN   \n",
            "50%                          NaN   NaN      NaN             NaN   \n",
            "75%                          NaN   NaN      NaN             NaN   \n",
            "max                          NaN   NaN      NaN             NaN   \n",
            "\n",
            "       I131 treatment  ... TT4 measured   TT4 T4U measured   T4U FTI measured  \\\n",
            "count            9172  ...         9172  9172         9172  9172         9172   \n",
            "unique              2  ...            2   288            2   177            2   \n",
            "top                 f  ...            t     ?            t     ?            t   \n",
            "freq             9003  ...         8730   442         8363   809         8370   \n",
            "mean              NaN  ...          NaN   NaN          NaN   NaN          NaN   \n",
            "std               NaN  ...          NaN   NaN          NaN   NaN          NaN   \n",
            "min               NaN  ...          NaN   NaN          NaN   NaN          NaN   \n",
            "25%               NaN  ...          NaN   NaN          NaN   NaN          NaN   \n",
            "50%               NaN  ...          NaN   NaN          NaN   NaN          NaN   \n",
            "75%               NaN  ...          NaN   NaN          NaN   NaN          NaN   \n",
            "max               NaN  ...          NaN   NaN          NaN   NaN          NaN   \n",
            "\n",
            "         FTI TBG measured   TBG referral source     Condition  \n",
            "count   9172         9172  9172            9172          9172  \n",
            "unique   324            2    67               6            32  \n",
            "top        ?            f     ?           other  NO CONDITION  \n",
            "freq     802         8823  8823            5493          6771  \n",
            "mean     NaN          NaN   NaN             NaN           NaN  \n",
            "std      NaN          NaN   NaN             NaN           NaN  \n",
            "min      NaN          NaN   NaN             NaN           NaN  \n",
            "25%      NaN          NaN   NaN             NaN           NaN  \n",
            "50%      NaN          NaN   NaN             NaN           NaN  \n",
            "75%      NaN          NaN   NaN             NaN           NaN  \n",
            "max      NaN          NaN   NaN             NaN           NaN  \n",
            "\n",
            "[11 rows x 31 columns]\n",
            "\n",
            "Categorical Columns: ['sex', 'on thyroxine', 'query on thyroxine', 'on antithyroid medication', 'sick', 'pregnant', 'thyroid surgery', 'I131 treatment', 'query hypothyroid', 'query hyperthyroid', 'lithium', 'goitre', 'tumor', 'hypopituitary', 'psych', 'TSH measured', 'TSH', 'T3 measured', 'T3', 'TT4 measured', 'TT4', 'T4U measured', 'T4U', 'FTI measured', 'FTI', 'TBG measured', 'TBG', 'referral source', 'Condition']\n",
            "\n",
            "Checking for outliers (Q1 - 1.5*IQR, Q3 + 1.5*IQR):\n",
            "Record ID: 0 outliers\n",
            "age: 4 outliers\n",
            "\n",
            "Mean and Variance for Numeric Columns:\n",
            "Record ID: Mean = 852947346.61, Variance = 57486250586150.34\n",
            "age: Mean = 73.56, Variance = 1401800.87\n"
          ]
        }
      ]
    },
    {
      "cell_type": "code",
      "source": [
        "#Q5\n",
        "# Step 1: Encode categorical data first\n",
        "df_encoded = thyroid_df.copy()\n",
        "\n",
        "for col in df_encoded.select_dtypes(include='object').columns:\n",
        "    le = LabelEncoder()\n",
        "    df_encoded[col] = le.fit_transform(df_encoded[col].astype(str))\n",
        "\n",
        "# Step 2: Take only binary (0 or 1) attributes\n",
        "binary_df = df_encoded.loc[:, df_encoded.nunique() == 2]\n",
        "\n",
        "# Step 3: Select first two observation vectors\n",
        "vec1 = binary_df.iloc[0].to_numpy()\n",
        "vec2 = binary_df.iloc[1].to_numpy()\n",
        "\n",
        "# Step 4: Compute JC and SMC\n",
        "def jaccard_smc(v1, v2):\n",
        "    f11 = np.sum((v1 == 1) & (v2 == 1))\n",
        "    f00 = np.sum((v1 == 0) & (v2 == 0))\n",
        "    f10 = np.sum((v1 == 1) & (v2 == 0))\n",
        "    f01 = np.sum((v1 == 0) & (v2 == 1))\n",
        "\n",
        "    jc = f11 / (f11 + f10 + f01) if (f11 + f10 + f01) != 0 else 0\n",
        "    smc = (f11 + f00) / (f11 + f00 + f10 + f01) if (f11 + f00 + f10 + f01) != 0 else 0\n",
        "    return jc, smc\n",
        "\n",
        "jc, smc = jaccard_smc(vec1, vec2)\n",
        "\n",
        "# Step 5: Print the results\n",
        "\n",
        "print(f\"Jaccard Coefficient (JC): {jc:.4f}\")\n",
        "print(f\"Simple Matching Coefficient (SMC): {smc:.4f}\")"
      ],
      "metadata": {
        "colab": {
          "base_uri": "https://localhost:8080/"
        },
        "id": "Up4o5jaEBLUE",
        "outputId": "0d57e998-53ba-4ff4-96e9-961c83c8496f"
      },
      "execution_count": 8,
      "outputs": [
        {
          "output_type": "stream",
          "name": "stdout",
          "text": [
            "Jaccard Coefficient (JC): 0.2500\n",
            "Simple Matching Coefficient (SMC): 0.8500\n"
          ]
        }
      ]
    },
    {
      "cell_type": "code",
      "source": [
        "#Q6\n",
        "\n",
        "# Use all attributes from encoded dataset\n",
        "vec1 = df_encoded.iloc[0].to_numpy().reshape(1, -1)\n",
        "vec2 = df_encoded.iloc[1].to_numpy().reshape(1, -1)\n",
        "\n",
        "# Compute cosine similarity\n",
        "cos_sim = cosine_similarity(vec1, vec2)[0][0]\n",
        "\n",
        "# Output\n",
        "print(f\"Cosine Similarity: {cos_sim:.4f}\")"
      ],
      "metadata": {
        "colab": {
          "base_uri": "https://localhost:8080/"
        },
        "id": "Gj7VzEVfB4Sh",
        "outputId": "b0c2d66e-558e-4403-fa10-c8a4b6643e50"
      },
      "execution_count": 9,
      "outputs": [
        {
          "output_type": "stream",
          "name": "stdout",
          "text": [
            "Cosine Similarity: 1.0000\n"
          ]
        }
      ]
    },
    {
      "cell_type": "code",
      "source": [
        "#Q7\n",
        "\n",
        "# Step 1: Take first 20 observations\n",
        "first_20 = df_encoded.iloc[:20]\n",
        "\n",
        "# Step 2: Create cosine similarity matrix\n",
        "cos_sim_matrix = cosine_similarity(first_20)\n",
        "\n",
        "# Step 3: Plot heatmap\n",
        "plt.figure(figsize=(10, 8))\n",
        "sns.heatmap(cos_sim_matrix, annot=False, cmap='viridis')\n",
        "plt.title(\"Cosine Similarity Heatmap (First 20 Observations)\")\n",
        "plt.xlabel(\"Observation Index\")\n",
        "plt.ylabel(\"Observation Index\")\n",
        "plt.show()\n"
      ],
      "metadata": {
        "colab": {
          "base_uri": "https://localhost:8080/",
          "height": 718
        },
        "id": "YMEpgk9eCg9D",
        "outputId": "f1b717e9-a81f-4db7-af8a-e2e2192f56c8"
      },
      "execution_count": 10,
      "outputs": [
        {
          "output_type": "display_data",
          "data": {
            "text/plain": [
              "<Figure size 1000x800 with 2 Axes>"
            ],
            "image/png": "[encoded data removed]"
          },
          "metadata": {}
        }
      ]
    },
    {
      "cell_type": "code",
      "source": [
        "#Q8\n",
        "\n",
        "def impute_missing(df):\n",
        "    for col in df.columns:\n",
        "        if df[col].isnull().sum() == len(df[col]):\n",
        "            print(f\"Column '{col}' has all missing values \")\n",
        "            continue\n",
        "\n",
        "        if df[col].dtype == 'object':\n",
        "            mode_value = df[col].mode()[0]\n",
        "            df[col].fillna(mode_value, inplace=True)\n",
        "            print(f\"Column '{col}' is categorical → filled missing values with mode: {mode_value}\")\n",
        "\n",
        "        elif df[col].dtype in ['int64', 'float64']:\n",
        "            if df[col].nunique() < 10:\n",
        "                median_value = df[col].median()\n",
        "                df[col].fillna(median_value, inplace=True)\n",
        "                print(f\"Column '{col}' is numeric (likely with outliers) → filled missing values with median: {median_value}\")\n",
        "            else:\n",
        "                mean_value = df[col].mean()\n",
        "                df[col].fillna(mean_value, inplace=True)\n",
        "                print(f\"Column '{col}' is numeric without outliers → filled missing values with mean: {mean_value}\")\n",
        "    return df\n"
      ],
      "metadata": {
        "id": "2vUF01JTxJ4U"
      },
      "execution_count": 38,
      "outputs": []
    },
    {
      "cell_type": "code",
      "source": [
        "df_cleaned = impute_missing(df)"
      ],
      "metadata": {
        "colab": {
          "base_uri": "https://localhost:8080/"
        },
        "id": "PswO_0xjxNnL",
        "outputId": "fa2e0d50-cc45-4951-e629-1f136ab2c35c"
      },
      "execution_count": 35,
      "outputs": [
        {
          "output_type": "stream",
          "name": "stdout",
          "text": [
            "Column 'Customer' is categorical → filled missing values with mode: C_1\n",
            "Column 'Candies (#)' is numeric (likely with outliers) → filled missing values with median: 19.5\n",
            "Column 'Mangoes (Kg)' is numeric (likely with outliers) → filled missing values with median: 3.5\n",
            "Column 'Milk Packets (#)' is numeric (likely with outliers) → filled missing values with median: 2.0\n",
            "Column 'Payment (Rs)' is numeric without outliers → filled missing values with mean: 251.6\n",
            "Column 'Unnamed: 5' has all missing values \n",
            "Column 'Unnamed: 6' has all missing values \n",
            "Column 'Unnamed: 7' has all missing values \n",
            "Column 'Unnamed: 8' has all missing values \n",
            "Column 'Unnamed: 9' has all missing values \n",
            "Column 'Unnamed: 10' has all missing values \n",
            "Column 'Unnamed: 11' has all missing values \n",
            "Column 'Unnamed: 12' has all missing values \n",
            "Column 'Unnamed: 13' has all missing values \n",
            "Column 'Unnamed: 14' has all missing values \n",
            "Column 'Unnamed: 15' has all missing values \n",
            "Column 'Unnamed: 16' has all missing values \n",
            "Column 'Unnamed: 17' has all missing values \n",
            "Column 'Unnamed: 18' has all missing values \n",
            "Column 'Candy' is numeric (likely with outliers) → filled missing values with median: 1.0\n",
            "Column 'Mango' is numeric (likely with outliers) → filled missing values with median: 55.0\n",
            "Column 'Milk' is numeric (likely with outliers) → filled missing values with median: 18.0\n",
            "Column 'Label' is categorical → filled missing values with mode: RICH\n"
          ]
        }
      ]
    },
    {
      "cell_type": "code",
      "source": [
        "#Q9\n",
        "\n",
        "from sklearn.preprocessing import MinMaxScaler\n",
        "\n",
        "def normalize_columns(df, columns):\n",
        "    scaler = MinMaxScaler()\n",
        "    print(\"Normalizing the following columns:\")\n",
        "    for col in columns:\n",
        "        print(f\"→ Column '{col}' scaled using Min-Max Scaling.\")\n",
        "    df[columns] = scaler.fit_transform(df[columns])\n",
        "    return df"
      ],
      "metadata": {
        "id": "oGH1ZdBUvghP"
      },
      "execution_count": 36,
      "outputs": []
    },
    {
      "cell_type": "code",
      "source": [
        "# Step 1: Identify numeric columns\n",
        "numeric_cols = df_encoded.select_dtypes(include=['int64', 'float64']).columns.tolist()\n",
        "\n",
        "# Step 2: Normalize\n",
        "df_normalized = normalize_columns(df_encoded.copy(), numeric_cols)\n"
      ],
      "metadata": {
        "colab": {
          "base_uri": "https://localhost:8080/"
        },
        "id": "H9pqXKsH0f7r",
        "outputId": "388b3ea0-be38-4862-885e-36bb7823348f"
      },
      "execution_count": 37,
      "outputs": [
        {
          "output_type": "stream",
          "name": "stdout",
          "text": [
            "Normalizing the following columns:\n",
            "→ Column 'Record ID' scaled using Min-Max Scaling.\n",
            "→ Column 'age' scaled using Min-Max Scaling.\n",
            "→ Column 'sex' scaled using Min-Max Scaling.\n",
            "→ Column 'on thyroxine' scaled using Min-Max Scaling.\n",
            "→ Column 'query on thyroxine' scaled using Min-Max Scaling.\n",
            "→ Column 'on antithyroid medication' scaled using Min-Max Scaling.\n",
            "→ Column 'sick' scaled using Min-Max Scaling.\n",
            "→ Column 'pregnant' scaled using Min-Max Scaling.\n",
            "→ Column 'thyroid surgery' scaled using Min-Max Scaling.\n",
            "→ Column 'I131 treatment' scaled using Min-Max Scaling.\n",
            "→ Column 'query hypothyroid' scaled using Min-Max Scaling.\n",
            "→ Column 'query hyperthyroid' scaled using Min-Max Scaling.\n",
            "→ Column 'lithium' scaled using Min-Max Scaling.\n",
            "→ Column 'goitre' scaled using Min-Max Scaling.\n",
            "→ Column 'tumor' scaled using Min-Max Scaling.\n",
            "→ Column 'hypopituitary' scaled using Min-Max Scaling.\n",
            "→ Column 'psych' scaled using Min-Max Scaling.\n",
            "→ Column 'TSH measured' scaled using Min-Max Scaling.\n",
            "→ Column 'TSH' scaled using Min-Max Scaling.\n",
            "→ Column 'T3 measured' scaled using Min-Max Scaling.\n",
            "→ Column 'T3' scaled using Min-Max Scaling.\n",
            "→ Column 'TT4 measured' scaled using Min-Max Scaling.\n",
            "→ Column 'TT4' scaled using Min-Max Scaling.\n",
            "→ Column 'T4U measured' scaled using Min-Max Scaling.\n",
            "→ Column 'T4U' scaled using Min-Max Scaling.\n",
            "→ Column 'FTI measured' scaled using Min-Max Scaling.\n",
            "→ Column 'FTI' scaled using Min-Max Scaling.\n",
            "→ Column 'TBG measured' scaled using Min-Max Scaling.\n",
            "→ Column 'TBG' scaled using Min-Max Scaling.\n",
            "→ Column 'referral source' scaled using Min-Max Scaling.\n",
            "→ Column 'Condition' scaled using Min-Max Scaling.\n"
          ]
        }
      ]
    }
  ]
}